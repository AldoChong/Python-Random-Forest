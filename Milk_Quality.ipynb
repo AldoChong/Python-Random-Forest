{
 "cells": [
  {
   "attachments": {},
   "cell_type": "markdown",
   "metadata": {},
   "source": [
    "*Python: Random Forest*\n",
    "\n",
    "En esta notebook se hace el analisis de la base de datos llamada \"Milk Quality Prediction\", disponible en: https://www.kaggle.com/datasets/cpluzshrijayan/milkquality?resource=download. Esta es una base de datos  proveniente del famoso sitio web Kaggle. Esta base de datos consta de 1059 observaciones manuales donde se registra la siguiente informacion. \n",
    "\n",
    "1. pH. \n",
    "2. Temperatura\n",
    "3. Sabor\n",
    "4. Olor\n",
    "5. Grasa\n",
    "6. Turbidez\n",
    "7. Color\n",
    "8. Calidad\n",
    "\n",
    "Tenemos que la Calidad es la variable objetivo. Es decir, queremos usar las 7 variables anteriores para predecir la calidad de la leche. Para resolver este problema, utilizaremos una tecnica de Machine Learning llamada Random Forest. A continuacion se da una breve explicacion (el lector puede omitirla y pasar directamente al codigo en Python).\n",
    "\n",
    "*Breve explicacion del metodo Random Forest*\n",
    "\n",
    "Sean $a_{1},...,a_{n}$ caracteristicas y sea $f$ un clasificador. Decimos que $f$ es un arbol de decision si y solo si para toda $i \\in \\{1,...,n\\}$ existe una condicion sobre la caracteristica $i$ tal que $f(a_{1},...,a_{n}) \\in \\R$ y ademas dichas condiciones maximizan el \"coeficiente de Gini\". Es decir, la prediccion de $f$ esta dada por una serie de condiciones que maximizan un criterio de Gini (el cual no se explicara para no entrar en honduras). \n",
    "\n",
    "Ahora bien, sean $f_{1},...,f_{m}$ arboles de decision. Sea $g$ un clasificador. Decimos que $g$ es un random forest si y solo si cada uno de los arboles de decision $f_{i}$ tiene acceso a un subconjunto arbitrario del espacio muestral y un subconjunto propio de caracteristicas elegido arbitrariamente, y $g(a_{1},..,a_{n})$ es la prediccion mas votada de los $f_{1},...,f_{m}$. \n",
    "\n",
    "*Aplicacion del modelo*\n",
    "\n",
    "Ahora pasamos a la aplicacion del modelo. Utilizamos metodos de la libreria sklearn. Primero cargamos los datos."
   ]
  },
  {
   "cell_type": "code",
   "execution_count": 1,
   "metadata": {},
   "outputs": [],
   "source": [
    "#Hacemos la carga de los datos y hacemos analisis exploratorio. \n",
    "import pandas as pd\n",
    "import numpy as np\n",
    "import matplotlib.pyplot as plt\n",
    "\n",
    "data = pd.read_csv('milknew.csv')\n"
   ]
  },
  {
   "attachments": {},
   "cell_type": "markdown",
   "metadata": {},
   "source": [
    "Despues creamos los conjunto de entrenamiento y prueba. Usamos 70% de datos para entrenar el modelo."
   ]
  },
  {
   "cell_type": "code",
   "execution_count": 2,
   "metadata": {},
   "outputs": [],
   "source": [
    "#Hacemos la division de los datos \n",
    "from sklearn.model_selection import train_test_split\n",
    "\n",
    "X = data.iloc[:, 0:7]\n",
    "y = data.iloc[:, 7]\n",
    "\n",
    "X_train, X_test, y_train, y_test = train_test_split(X, y, test_size = 0.3, random_state = 3)"
   ]
  },
  {
   "attachments": {},
   "cell_type": "markdown",
   "metadata": {},
   "source": [
    "Inicializamos el clasificador y realizamos el ajuste con los datos de entrenamiento. "
   ]
  },
  {
   "cell_type": "code",
   "execution_count": 3,
   "metadata": {},
   "outputs": [],
   "source": [
    "#Implementacion de un bosque aleatorio\n",
    "from sklearn import tree\n",
    "from sklearn.tree import DecisionTreeClassifier\n",
    "from sklearn.ensemble import RandomForestClassifier\n",
    "\n",
    "random_forest = RandomForestClassifier(n_estimators = 10, criterion = 'gini', max_depth = None, min_samples_split = 2)\n",
    "fit_forest = random_forest.fit(X_train, y_train)"
   ]
  },
  {
   "attachments": {},
   "cell_type": "markdown",
   "metadata": {},
   "source": [
    "Ahora pasamos a hacer la predicciones sobre el conjunto de prueba. Recordemos que estos son datos que nunca ha visto el modelo. De esta manera podemos evaluar que tan bien puede realizar predicciones. "
   ]
  },
  {
   "cell_type": "code",
   "execution_count": 4,
   "metadata": {},
   "outputs": [],
   "source": [
    "#Vemos el score del modelo \n",
    "\n",
    "fit_forest.score(X_test, y_test)\n",
    "fit_forest.estimators_[0].feature_importances_\n",
    "y_pred = fit_forest.predict(X_test)"
   ]
  },
  {
   "attachments": {},
   "cell_type": "markdown",
   "metadata": {},
   "source": [
    "Una vez con la predicciones, pasamos a evaluar su rendimiento. Primero imprimimos la matriz de confusion. Recordemos que si $A$ es matriz de confusion, entonces $A_{ij}$ es la cantidad de observaciones fueron predichas en la categoria $j$ pero en realidad eran categoria $i$. En ese sentido la entrada $A_{ii}$ es la cantidad de predicciones de la categorias $i$ fueron correctamente predichas. "
   ]
  },
  {
   "cell_type": "code",
   "execution_count": 5,
   "metadata": {},
   "outputs": [
    {
     "data": {
      "text/plain": [
       "<sklearn.metrics._plot.confusion_matrix.ConfusionMatrixDisplay at 0x23e8c1637f0>"
      ]
     },
     "execution_count": 5,
     "metadata": {},
     "output_type": "execute_result"
    },
    {
     "data": {
      "image/png": "[encoded data removed]",
      "text/plain": [
       "<Figure size 432x288 with 2 Axes>"
      ]
     },
     "metadata": {
      "needs_background": "light"
     },
     "output_type": "display_data"
    }
   ],
   "source": [
    "#Hacemos la impresion de la matriz de confusion. \n",
    "from sklearn.metrics import confusion_matrix, ConfusionMatrixDisplay, classification_report\n",
    "\n",
    "cm = confusion_matrix(y_test, y_pred)\n",
    "disp = ConfusionMatrixDisplay(cm)\n",
    "disp.plot()"
   ]
  },
  {
   "attachments": {},
   "cell_type": "markdown",
   "metadata": {},
   "source": [
    "Vemos que el modelo fue casi perfecto, solo 2 observaciones fueron incorrectas en los datos de prueba. Ahora bien, mostramos las metricas del modelo. Vemos que tamnbien son muy buenas y reflejan el hecho de que solo 2 observaciones fueron erroneas. "
   ]
  },
  {
   "cell_type": "code",
   "execution_count": 6,
   "metadata": {},
   "outputs": [
    {
     "name": "stdout",
     "output_type": "stream",
     "text": [
      "              precision    recall  f1-score   support\n",
      "\n",
      "        high       0.97      1.00      0.99        75\n",
      "         low       1.00      0.98      0.99       122\n",
      "      medium       1.00      1.00      1.00       121\n",
      "\n",
      "    accuracy                           0.99       318\n",
      "   macro avg       0.99      0.99      0.99       318\n",
      "weighted avg       0.99      0.99      0.99       318\n",
      "\n"
     ]
    }
   ],
   "source": [
    "#Mostramos las metricas del modelo\n",
    "from sklearn.metrics import classification_report\n",
    "\n",
    "reporte = classification_report(y_test, y_pred)\n",
    "print(reporte)"
   ]
  },
  {
   "attachments": {},
   "cell_type": "markdown",
   "metadata": {},
   "source": [
    "Conclusion: Tenemos que el algoritmo de random forest fue muy bueno para este problema y podemos utilizar este modelo ya entrenado para predecir de manera automatica la calidad de la leche. Un clasificador como este podria reducir costos en la industria al realizar la clasificacion de manera automatica.  "
   ]
  }
 ],
 "metadata": {
  "kernelspec": {
   "display_name": "Python 3.10.2 64-bit",
   "language": "python",
   "name": "python3"
  },
  "language_info": {
   "codemirror_mode": {
    "name": "ipython",
    "version": 3
   },
   "file_extension": ".py",
   "mimetype": "text/x-python",
   "name": "python",
   "nbconvert_exporter": "python",
   "pygments_lexer": "ipython3",
   "version": "3.10.2"
  },
  "orig_nbformat": 4,
  "vscode": {
   "interpreter": {
    "hash": "369f2c481f4da34e4445cda3fffd2e751bd1c4d706f27375911949ba6bb62e1c"
   }
  }
 },
 "nbformat": 4,
 "nbformat_minor": 2
}
